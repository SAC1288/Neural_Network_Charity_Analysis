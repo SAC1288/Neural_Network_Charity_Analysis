{
 "cells": [
  {
   "cell_type": "code",
   "execution_count": 4,
   "id": "c5e57ff2",
   "metadata": {},
   "outputs": [],
   "source": [
    "#Importing dependencies\n",
    "import pandas as pd\n",
    "import matplotlib as plt\n",
    "from sklearn.datasets import make_blobs\n",
    "import sklearn as skl\n",
    "import tensorflow as tf"
   ]
  },
  {
   "cell_type": "code",
   "execution_count": 3,
   "id": "3d42edbf",
   "metadata": {},
   "outputs": [
    {
     "name": "stdout",
     "output_type": "stream",
     "text": [
      "Collecting tensorflow\n",
      "  Downloading tensorflow-2.8.0-cp37-cp37m-win_amd64.whl (437.9 MB)\n",
      "Collecting tensorboard<2.9,>=2.8\n",
      "  Using cached tensorboard-2.8.0-py3-none-any.whl (5.8 MB)\n",
      "Requirement already satisfied: numpy>=1.20 in c:\\users\\stephen\\anaconda3\\envs\\mlenv\\lib\\site-packages (from tensorflow) (1.20.3)\n",
      "Collecting flatbuffers>=1.12\n",
      "  Using cached flatbuffers-2.0-py2.py3-none-any.whl (26 kB)\n",
      "Collecting protobuf>=3.9.2\n",
      "  Downloading protobuf-3.19.4-cp37-cp37m-win_amd64.whl (896 kB)\n",
      "Collecting keras<2.9,>=2.8.0rc0\n",
      "  Using cached keras-2.8.0-py2.py3-none-any.whl (1.4 MB)\n",
      "Collecting tensorflow-io-gcs-filesystem>=0.23.1\n",
      "  Downloading tensorflow_io_gcs_filesystem-0.24.0-cp37-cp37m-win_amd64.whl (1.5 MB)\n",
      "Collecting astunparse>=1.6.0\n",
      "  Using cached astunparse-1.6.3-py2.py3-none-any.whl (12 kB)\n",
      "Collecting libclang>=9.0.1\n",
      "  Using cached libclang-13.0.0-py2.py3-none-win_amd64.whl (13.9 MB)\n",
      "Collecting tf-estimator-nightly==2.8.0.dev2021122109\n",
      "  Using cached tf_estimator_nightly-2.8.0.dev2021122109-py2.py3-none-any.whl (462 kB)\n",
      "Collecting google-pasta>=0.1.1\n",
      "  Using cached google_pasta-0.2.0-py3-none-any.whl (57 kB)\n",
      "Requirement already satisfied: h5py>=2.9.0 in c:\\users\\stephen\\anaconda3\\envs\\mlenv\\lib\\site-packages (from tensorflow) (2.10.0)\n",
      "Collecting keras-preprocessing>=1.1.1\n",
      "  Using cached Keras_Preprocessing-1.1.2-py2.py3-none-any.whl (42 kB)\n",
      "Collecting termcolor>=1.1.0\n",
      "  Using cached termcolor-1.1.0.tar.gz (3.9 kB)\n",
      "Requirement already satisfied: setuptools in c:\\users\\stephen\\anaconda3\\envs\\mlenv\\lib\\site-packages (from tensorflow) (58.0.4)\n",
      "Collecting grpcio<2.0,>=1.24.3\n",
      "  Downloading grpcio-1.44.0-cp37-cp37m-win_amd64.whl (3.4 MB)\n",
      "Collecting opt-einsum>=2.3.2\n",
      "  Using cached opt_einsum-3.3.0-py3-none-any.whl (65 kB)\n",
      "Requirement already satisfied: typing-extensions>=3.6.6 in c:\\users\\stephen\\anaconda3\\envs\\mlenv\\lib\\site-packages (from tensorflow) (3.10.0.2)\n",
      "Collecting absl-py>=0.4.0\n",
      "  Using cached absl_py-1.0.0-py3-none-any.whl (126 kB)\n",
      "Requirement already satisfied: wrapt>=1.11.0 in c:\\users\\stephen\\anaconda3\\envs\\mlenv\\lib\\site-packages (from tensorflow) (1.12.1)\n",
      "Collecting gast>=0.2.1\n",
      "  Using cached gast-0.5.3-py3-none-any.whl (19 kB)\n",
      "Requirement already satisfied: six>=1.12.0 in c:\\users\\stephen\\anaconda3\\envs\\mlenv\\lib\\site-packages (from tensorflow) (1.16.0)\n",
      "Requirement already satisfied: wheel<1.0,>=0.23.0 in c:\\users\\stephen\\anaconda3\\envs\\mlenv\\lib\\site-packages (from astunparse>=1.6.0->tensorflow) (0.37.1)\n",
      "Requirement already satisfied: werkzeug>=0.11.15 in c:\\users\\stephen\\anaconda3\\envs\\mlenv\\lib\\site-packages (from tensorboard<2.9,>=2.8->tensorflow) (2.0.3)\n",
      "Requirement already satisfied: markdown>=2.6.8 in c:\\users\\stephen\\anaconda3\\envs\\mlenv\\lib\\site-packages (from tensorboard<2.9,>=2.8->tensorflow) (3.3.4)\n",
      "Collecting tensorboard-data-server<0.7.0,>=0.6.0\n",
      "  Using cached tensorboard_data_server-0.6.1-py3-none-any.whl (2.4 kB)\n",
      "Collecting google-auth<3,>=1.6.3\n",
      "  Using cached google_auth-2.6.0-py2.py3-none-any.whl (156 kB)\n",
      "Collecting tensorboard-plugin-wit>=1.6.0Note: you may need to restart the kernel to use updated packages.\n"
     ]
    },
    {
     "name": "stderr",
     "output_type": "stream",
     "text": [
      "  WARNING: The scripts pyrsa-decrypt.exe, pyrsa-encrypt.exe, pyrsa-keygen.exe, pyrsa-priv2pub.exe, pyrsa-sign.exe and pyrsa-verify.exe are installed in 'C:\\Users\\Stephen\\anaconda3\\envs\\mlenv\\Scripts' which is not on PATH.\n",
      "  Consider adding this directory to PATH or, if you prefer to suppress this warning, use --no-warn-script-location.\n",
      "  WARNING: The script google-oauthlib-tool.exe is installed in 'C:\\Users\\Stephen\\anaconda3\\envs\\mlenv\\Scripts' which is not on PATH.\n",
      "  Consider adding this directory to PATH or, if you prefer to suppress this warning, use --no-warn-script-location.\n",
      "  WARNING: The script tensorboard.exe is installed in 'C:\\Users\\Stephen\\anaconda3\\envs\\mlenv\\Scripts' which is not on PATH.\n",
      "  Consider adding this directory to PATH or, if you prefer to suppress this warning, use --no-warn-script-location.\n",
      "  WARNING: The scripts estimator_ckpt_converter.exe, import_pb_to_tensorboard.exe, saved_model_cli.exe, tensorboard.exe, tf_upgrade_v2.exe, tflite_convert.exe, toco.exe and toco_from_protos.exe are installed in 'C:\\Users\\Stephen\\anaconda3\\envs\\mlenv\\Scripts' which is not on PATH.\n",
      "  Consider adding this directory to PATH or, if you prefer to suppress this warning, use --no-warn-script-location.\n"
     ]
    },
    {
     "name": "stdout",
     "output_type": "stream",
     "text": [
      "\n",
      "  Using cached tensorboard_plugin_wit-1.8.1-py3-none-any.whl (781 kB)\n",
      "Collecting google-auth-oauthlib<0.5,>=0.4.1\n",
      "  Using cached google_auth_oauthlib-0.4.6-py2.py3-none-any.whl (18 kB)\n",
      "Requirement already satisfied: requests<3,>=2.21.0 in c:\\users\\stephen\\anaconda3\\envs\\mlenv\\lib\\site-packages (from tensorboard<2.9,>=2.8->tensorflow) (2.27.1)\n",
      "Collecting cachetools<6.0,>=2.0.0\n",
      "  Using cached cachetools-5.0.0-py3-none-any.whl (9.1 kB)\n",
      "Collecting pyasn1-modules>=0.2.1\n",
      "  Using cached pyasn1_modules-0.2.8-py2.py3-none-any.whl (155 kB)\n",
      "Collecting rsa<5,>=3.1.4\n",
      "  Using cached rsa-4.8-py3-none-any.whl (39 kB)\n",
      "Collecting requests-oauthlib>=0.7.0\n",
      "  Using cached requests_oauthlib-1.3.1-py2.py3-none-any.whl (23 kB)\n",
      "Requirement already satisfied: importlib-metadata in c:\\users\\stephen\\anaconda3\\envs\\mlenv\\lib\\site-packages (from markdown>=2.6.8->tensorboard<2.9,>=2.8->tensorflow) (4.8.2)\n",
      "Collecting pyasn1<0.5.0,>=0.4.6\n",
      "  Using cached pyasn1-0.4.8-py2.py3-none-any.whl (77 kB)\n",
      "Requirement already satisfied: charset-normalizer~=2.0.0 in c:\\users\\stephen\\anaconda3\\envs\\mlenv\\lib\\site-packages (from requests<3,>=2.21.0->tensorboard<2.9,>=2.8->tensorflow) (2.0.4)\n",
      "Requirement already satisfied: certifi>=2017.4.17 in c:\\users\\stephen\\anaconda3\\envs\\mlenv\\lib\\site-packages (from requests<3,>=2.21.0->tensorboard<2.9,>=2.8->tensorflow) (2021.10.8)\n",
      "Requirement already satisfied: idna<4,>=2.5 in c:\\users\\stephen\\anaconda3\\envs\\mlenv\\lib\\site-packages (from requests<3,>=2.21.0->tensorboard<2.9,>=2.8->tensorflow) (3.3)\n",
      "Requirement already satisfied: urllib3<1.27,>=1.21.1 in c:\\users\\stephen\\anaconda3\\envs\\mlenv\\lib\\site-packages (from requests<3,>=2.21.0->tensorboard<2.9,>=2.8->tensorflow) (1.26.8)\n",
      "Collecting oauthlib>=3.0.0\n",
      "  Using cached oauthlib-3.2.0-py3-none-any.whl (151 kB)\n",
      "Requirement already satisfied: zipp>=0.5 in c:\\users\\stephen\\anaconda3\\envs\\mlenv\\lib\\site-packages (from importlib-metadata->markdown>=2.6.8->tensorboard<2.9,>=2.8->tensorflow) (3.7.0)\n",
      "Building wheels for collected packages: termcolor\n",
      "  Building wheel for termcolor (setup.py): started\n",
      "  Building wheel for termcolor (setup.py): finished with status 'done'\n",
      "  Created wheel for termcolor: filename=termcolor-1.1.0-py3-none-any.whl size=4848 sha256=bf9d3216975f6a3f02114df408dae863623d6194dba2aa6d5103df5366e92461\n",
      "  Stored in directory: c:\\users\\stephen\\appdata\\local\\pip\\cache\\wheels\\3f\\e3\\ec\\8a8336ff196023622fbcb36de0c5a5c218cbb24111d1d4c7f2\n",
      "Successfully built termcolor\n",
      "Installing collected packages: pyasn1, rsa, pyasn1-modules, oauthlib, cachetools, requests-oauthlib, google-auth, tensorboard-plugin-wit, tensorboard-data-server, protobuf, grpcio, google-auth-oauthlib, absl-py, tf-estimator-nightly, termcolor, tensorflow-io-gcs-filesystem, tensorboard, opt-einsum, libclang, keras-preprocessing, keras, google-pasta, gast, flatbuffers, astunparse, tensorflow\n",
      "Successfully installed absl-py-1.0.0 astunparse-1.6.3 cachetools-5.0.0 flatbuffers-2.0 gast-0.5.3 google-auth-2.6.0 google-auth-oauthlib-0.4.6 google-pasta-0.2.0 grpcio-1.44.0 keras-2.8.0 keras-preprocessing-1.1.2 libclang-13.0.0 oauthlib-3.2.0 opt-einsum-3.3.0 protobuf-3.19.4 pyasn1-0.4.8 pyasn1-modules-0.2.8 requests-oauthlib-1.3.1 rsa-4.8 tensorboard-2.8.0 tensorboard-data-server-0.6.1 tensorboard-plugin-wit-1.8.1 tensorflow-2.8.0 tensorflow-io-gcs-filesystem-0.24.0 termcolor-1.1.0 tf-estimator-nightly-2.8.0.dev2021122109\n"
     ]
    }
   ],
   "source": [
    "pip install tensorflow"
   ]
  },
  {
   "cell_type": "code",
   "execution_count": 5,
   "id": "6f637f0c",
   "metadata": {},
   "outputs": [],
   "source": [
    "#Once we have our required libraries imported into our notebook, we can create the dummy data using Scikit-learn's make_blobs method"
   ]
  },
  {
   "cell_type": "code",
   "execution_count": 6,
   "id": "8e72af5c",
   "metadata": {},
   "outputs": [
    {
     "data": {
      "text/html": [
       "<div>\n",
       "<style scoped>\n",
       "    .dataframe tbody tr th:only-of-type {\n",
       "        vertical-align: middle;\n",
       "    }\n",
       "\n",
       "    .dataframe tbody tr th {\n",
       "        vertical-align: top;\n",
       "    }\n",
       "\n",
       "    .dataframe thead th {\n",
       "        text-align: right;\n",
       "    }\n",
       "</style>\n",
       "<table border=\"1\" class=\"dataframe\">\n",
       "  <thead>\n",
       "    <tr style=\"text-align: right;\">\n",
       "      <th></th>\n",
       "      <th>Feature 1</th>\n",
       "      <th>Feature 2</th>\n",
       "      <th>Target</th>\n",
       "    </tr>\n",
       "  </thead>\n",
       "  <tbody>\n",
       "    <tr>\n",
       "      <th>0</th>\n",
       "      <td>5.478098</td>\n",
       "      <td>7.203714</td>\n",
       "      <td>1</td>\n",
       "    </tr>\n",
       "    <tr>\n",
       "      <th>1</th>\n",
       "      <td>-8.428483</td>\n",
       "      <td>4.121889</td>\n",
       "      <td>0</td>\n",
       "    </tr>\n",
       "    <tr>\n",
       "      <th>2</th>\n",
       "      <td>-7.905447</td>\n",
       "      <td>3.323639</td>\n",
       "      <td>0</td>\n",
       "    </tr>\n",
       "    <tr>\n",
       "      <th>3</th>\n",
       "      <td>6.411041</td>\n",
       "      <td>5.523013</td>\n",
       "      <td>1</td>\n",
       "    </tr>\n",
       "    <tr>\n",
       "      <th>4</th>\n",
       "      <td>7.288599</td>\n",
       "      <td>6.171226</td>\n",
       "      <td>1</td>\n",
       "    </tr>\n",
       "    <tr>\n",
       "      <th>...</th>\n",
       "      <td>...</td>\n",
       "      <td>...</td>\n",
       "      <td>...</td>\n",
       "    </tr>\n",
       "    <tr>\n",
       "      <th>995</th>\n",
       "      <td>6.208962</td>\n",
       "      <td>5.233968</td>\n",
       "      <td>1</td>\n",
       "    </tr>\n",
       "    <tr>\n",
       "      <th>996</th>\n",
       "      <td>-9.795754</td>\n",
       "      <td>3.502709</td>\n",
       "      <td>0</td>\n",
       "    </tr>\n",
       "    <tr>\n",
       "      <th>997</th>\n",
       "      <td>4.335167</td>\n",
       "      <td>5.928298</td>\n",
       "      <td>1</td>\n",
       "    </tr>\n",
       "    <tr>\n",
       "      <th>998</th>\n",
       "      <td>-8.466632</td>\n",
       "      <td>3.577022</td>\n",
       "      <td>0</td>\n",
       "    </tr>\n",
       "    <tr>\n",
       "      <th>999</th>\n",
       "      <td>-8.386629</td>\n",
       "      <td>4.179025</td>\n",
       "      <td>0</td>\n",
       "    </tr>\n",
       "  </tbody>\n",
       "</table>\n",
       "<p>1000 rows × 3 columns</p>\n",
       "</div>"
      ],
      "text/plain": [
       "     Feature 1  Feature 2  Target\n",
       "0     5.478098   7.203714       1\n",
       "1    -8.428483   4.121889       0\n",
       "2    -7.905447   3.323639       0\n",
       "3     6.411041   5.523013       1\n",
       "4     7.288599   6.171226       1\n",
       "..         ...        ...     ...\n",
       "995   6.208962   5.233968       1\n",
       "996  -9.795754   3.502709       0\n",
       "997   4.335167   5.928298       1\n",
       "998  -8.466632   3.577022       0\n",
       "999  -8.386629   4.179025       0\n",
       "\n",
       "[1000 rows x 3 columns]"
      ]
     },
     "execution_count": 6,
     "metadata": {},
     "output_type": "execute_result"
    }
   ],
   "source": [
    "#Generate dummy dataset\n",
    "X, y = make_blobs(n_samples=1000, centers=2, n_features=2, random_state=78)\n",
    "\n",
    "# Creaing a DataFrame with the dummy data\n",
    "df = pd.DataFrame(X, columns=[\"Feature 1\", \"Feature 2\"])\n",
    "df[\"Target\"] = y\n",
    "df"
   ]
  },
  {
   "cell_type": "code",
   "execution_count": 7,
   "id": "82304f0d",
   "metadata": {},
   "outputs": [
    {
     "data": {
      "text/plain": [
       "<AxesSubplot:xlabel='Feature 1', ylabel='Feature 2'>"
      ]
     },
     "execution_count": 7,
     "metadata": {},
     "output_type": "execute_result"
    },
    {
     "data": {
      "image/png": "[encoded data removed]",
      "text/plain": [
       "<Figure size 432x288 with 2 Axes>"
      ]
     },
     "metadata": {
      "needs_background": "light"
     },
     "output_type": "display_data"
    }
   ],
   "source": [
    "#Plotting the dummy data\n",
    "df.plot.scatter(x=\"Feature 1\", y=\"Feature 2\", c=\"Target\", colormap=\"winter\")"
   ]
  },
  {
   "cell_type": "code",
   "execution_count": 8,
   "id": "74686eed",
   "metadata": {},
   "outputs": [],
   "source": [
    "#Once we have our dummy data generated, we'll split our data into training and test datasets using Scikit-learn's train_test_split method. "
   ]
  },
  {
   "cell_type": "code",
   "execution_count": 9,
   "id": "fa8fa19f",
   "metadata": {},
   "outputs": [],
   "source": [
    "#Use sklearn to split dataset\n",
    "from sklearn.model_selection import train_test_split\n",
    "X_train, X_test, y_train, y_test = train_test_split(X, y, random_state=78)"
   ]
  },
  {
   "cell_type": "code",
   "execution_count": 11,
   "id": "570c52d7",
   "metadata": {},
   "outputs": [],
   "source": [
    "a, b = 3, 5"
   ]
  },
  {
   "cell_type": "code",
   "execution_count": 12,
   "id": "dc454bc6",
   "metadata": {},
   "outputs": [
    {
     "data": {
      "text/plain": [
       "7"
      ]
     },
     "execution_count": 12,
     "metadata": {},
     "output_type": "execute_result"
    }
   ],
   "source": [
    "c = b + 2\n",
    "c"
   ]
  },
  {
   "cell_type": "code",
   "execution_count": 13,
   "id": "e1333ac9",
   "metadata": {},
   "outputs": [],
   "source": [
    "#Creating scaler insance\n",
    "X_scaler = skl.preprocessing.StandardScaler()\n",
    "\n",
    "#Fit the scaler\n",
    "X_scaler.fit(X_train)\n",
    "\n",
    "#Scale the data\n",
    "X_train_scaled = X_scaler.transform(X_train)\n",
    "X_test_scaled = X_scaler.transform(X_test)"
   ]
  },
  {
   "cell_type": "code",
   "execution_count": 14,
   "id": "e6709fd6",
   "metadata": {},
   "outputs": [],
   "source": [
    "#Finally, we have our data ready for our first neural network model! To create the neural network in our notebook, first we must create our Sequential model."
   ]
  },
  {
   "cell_type": "code",
   "execution_count": 16,
   "id": "a5591bc7",
   "metadata": {},
   "outputs": [],
   "source": [
    "#Creating the Keras Sequential model\n",
    "nn_model = tf.keras.models.Sequential()"
   ]
  },
  {
   "cell_type": "code",
   "execution_count": 17,
   "id": "00d80032",
   "metadata": {},
   "outputs": [],
   "source": [
    "# Add our first Dense layer, including the input layer\n",
    "nn_model.add(tf.keras.layers.Dense(units=1, activation=\"relu\", input_dim=2))"
   ]
  },
  {
   "cell_type": "code",
   "execution_count": 18,
   "id": "3efa9e24",
   "metadata": {},
   "outputs": [],
   "source": [
    "# Add our first Dense layer, including the input layer\n",
    "nn_model.add(tf.keras.layers.Dense(units=1, activation=\"relu\", input_dim=2))"
   ]
  },
  {
   "cell_type": "code",
   "execution_count": 19,
   "id": "a24a5750",
   "metadata": {},
   "outputs": [
    {
     "name": "stdout",
     "output_type": "stream",
     "text": [
      "Model: \"sequential_1\"\n",
      "_________________________________________________________________\n",
      " Layer (type)                Output Shape              Param #   \n",
      "=================================================================\n",
      " dense (Dense)               (None, 1)                 3         \n",
      "                                                                 \n",
      " dense_1 (Dense)             (None, 1)                 2         \n",
      "                                                                 \n",
      "=================================================================\n",
      "Total params: 5\n",
      "Trainable params: 5\n",
      "Non-trainable params: 0\n",
      "_________________________________________________________________\n"
     ]
    }
   ],
   "source": [
    "# Check the structure of the Sequential model\n",
    "nn_model.summary()"
   ]
  },
  {
   "cell_type": "code",
   "execution_count": 21,
   "id": "a9f3f25b",
   "metadata": {},
   "outputs": [],
   "source": [
    "#Now that we have our layers defined, we have to inform the model how it should train using the input data. \n",
    "#The process of informing the model how it should learn and train is called compiling the model."
   ]
  },
  {
   "cell_type": "code",
   "execution_count": 22,
   "id": "1c18cb8e",
   "metadata": {},
   "outputs": [],
   "source": [
    "#Depending on the function of the neural network, we'll have to compile the neural network \n",
    "#using a specific optimization function and loss metric. The optimization function \n",
    "#shapes and molds a neural network model while it is being trained to ensure that it \n",
    "#performs to the best of its ability. The loss metric is used by machine learning algorithms \n",
    "#to score the performance of the model through each iteration and epoch by evaluating the \n",
    "#inaccuracy of a single input."
   ]
  },
  {
   "cell_type": "code",
   "execution_count": 23,
   "id": "2cd76147",
   "metadata": {},
   "outputs": [],
   "source": [
    "# Compile the Sequential model together and customize metrics\n",
    "nn_model.compile(loss=\"binary_crossentropy\", optimizer=\"adam\", metrics=[\"accuracy\"])"
   ]
  },
  {
   "cell_type": "code",
   "execution_count": 24,
   "id": "28879648",
   "metadata": {},
   "outputs": [
    {
     "name": "stdout",
     "output_type": "stream",
     "text": [
      "Epoch 1/100\n",
      "24/24 [==============================] - 1s 7ms/step - loss: 7.6096 - accuracy: 0.5067\n",
      "Epoch 2/100\n",
      "24/24 [==============================] - 0s 7ms/step - loss: 7.6096 - accuracy: 0.5067\n",
      "Epoch 3/100\n",
      "24/24 [==============================] - 0s 10ms/step - loss: 7.6096 - accuracy: 0.5067\n",
      "Epoch 4/100\n",
      "24/24 [==============================] - 0s 10ms/step - loss: 7.6096 - accuracy: 0.5067\n",
      "Epoch 5/100\n",
      "24/24 [==============================] - 0s 7ms/step - loss: 7.6096 - accuracy: 0.5067\n",
      "Epoch 6/100\n",
      "24/24 [==============================] - 0s 7ms/step - loss: 7.6096 - accuracy: 0.5067\n",
      "Epoch 7/100\n",
      "24/24 [==============================] - 0s 4ms/step - loss: 7.6096 - accuracy: 0.5067\n",
      "Epoch 8/100\n",
      "24/24 [==============================] - 0s 4ms/step - loss: 7.6096 - accuracy: 0.5067\n",
      "Epoch 9/100\n",
      "24/24 [==============================] - 0s 5ms/step - loss: 7.6096 - accuracy: 0.5067\n",
      "Epoch 10/100\n",
      "24/24 [==============================] - 0s 12ms/step - loss: 7.6096 - accuracy: 0.5067\n",
      "Epoch 11/100\n",
      "24/24 [==============================] - 0s 7ms/step - loss: 7.6096 - accuracy: 0.5067\n",
      "Epoch 12/100\n",
      "24/24 [==============================] - 0s 10ms/step - loss: 7.6096 - accuracy: 0.5067\n",
      "Epoch 13/100\n",
      "24/24 [==============================] - 0s 9ms/step - loss: 7.6096 - accuracy: 0.5067\n",
      "Epoch 14/100\n",
      "24/24 [==============================] - 0s 8ms/step - loss: 7.6096 - accuracy: 0.5067\n",
      "Epoch 15/100\n",
      "24/24 [==============================] - 0s 7ms/step - loss: 7.6096 - accuracy: 0.5067\n",
      "Epoch 16/100\n",
      "24/24 [==============================] - 0s 10ms/step - loss: 7.6096 - accuracy: 0.5067\n",
      "Epoch 17/100\n",
      "24/24 [==============================] - 0s 12ms/step - loss: 7.6096 - accuracy: 0.5067\n",
      "Epoch 18/100\n",
      "24/24 [==============================] - 0s 12ms/step - loss: 7.6096 - accuracy: 0.5067\n",
      "Epoch 19/100\n",
      "24/24 [==============================] - 0s 11ms/step - loss: 7.6096 - accuracy: 0.5067\n",
      "Epoch 20/100\n",
      "24/24 [==============================] - 0s 13ms/step - loss: 7.6096 - accuracy: 0.5067\n",
      "Epoch 21/100\n",
      "24/24 [==============================] - 0s 14ms/step - loss: 7.6096 - accuracy: 0.5067\n",
      "Epoch 22/100\n",
      "24/24 [==============================] - 0s 8ms/step - loss: 7.6096 - accuracy: 0.5067\n",
      "Epoch 23/100\n",
      "24/24 [==============================] - 0s 7ms/step - loss: 7.6096 - accuracy: 0.5067\n",
      "Epoch 24/100\n",
      "24/24 [==============================] - 0s 7ms/step - loss: 7.6096 - accuracy: 0.5067\n",
      "Epoch 25/100\n",
      "24/24 [==============================] - 0s 10ms/step - loss: 7.6096 - accuracy: 0.5067\n",
      "Epoch 26/100\n",
      "24/24 [==============================] - 0s 10ms/step - loss: 7.6096 - accuracy: 0.5067\n",
      "Epoch 27/100\n",
      "24/24 [==============================] - 0s 11ms/step - loss: 7.6096 - accuracy: 0.5067\n",
      "Epoch 28/100\n",
      "24/24 [==============================] - 0s 13ms/step - loss: 7.6096 - accuracy: 0.5067\n",
      "Epoch 29/100\n",
      "24/24 [==============================] - 0s 11ms/step - loss: 7.6096 - accuracy: 0.5067\n",
      "Epoch 30/100\n",
      "24/24 [==============================] - 0s 15ms/step - loss: 7.6096 - accuracy: 0.5067\n",
      "Epoch 31/100\n",
      "24/24 [==============================] - 0s 13ms/step - loss: 7.6096 - accuracy: 0.5067\n",
      "Epoch 32/100\n",
      "24/24 [==============================] - 0s 12ms/step - loss: 7.6096 - accuracy: 0.5067\n",
      "Epoch 33/100\n",
      "24/24 [==============================] - 0s 18ms/step - loss: 7.6096 - accuracy: 0.5067\n",
      "Epoch 34/100\n",
      "24/24 [==============================] - 0s 13ms/step - loss: 7.6096 - accuracy: 0.5067\n",
      "Epoch 35/100\n",
      "24/24 [==============================] - 0s 13ms/step - loss: 7.6096 - accuracy: 0.5067\n",
      "Epoch 36/100\n",
      "24/24 [==============================] - 0s 12ms/step - loss: 7.6096 - accuracy: 0.5067\n",
      "Epoch 37/100\n",
      "24/24 [==============================] - 0s 12ms/step - loss: 7.6096 - accuracy: 0.5067\n",
      "Epoch 38/100\n",
      "24/24 [==============================] - 0s 8ms/step - loss: 7.6096 - accuracy: 0.5067\n",
      "Epoch 39/100\n",
      "24/24 [==============================] - 0s 7ms/step - loss: 7.6096 - accuracy: 0.5067\n",
      "Epoch 40/100\n",
      "24/24 [==============================] - 0s 3ms/step - loss: 7.6096 - accuracy: 0.5067\n",
      "Epoch 41/100\n",
      "24/24 [==============================] - 0s 7ms/step - loss: 7.6096 - accuracy: 0.5067\n",
      "Epoch 42/100\n",
      "24/24 [==============================] - 0s 6ms/step - loss: 7.6096 - accuracy: 0.5067\n",
      "Epoch 43/100\n",
      "24/24 [==============================] - 0s 7ms/step - loss: 7.6096 - accuracy: 0.5067\n",
      "Epoch 44/100\n",
      "24/24 [==============================] - 0s 5ms/step - loss: 7.6096 - accuracy: 0.5067\n",
      "Epoch 45/100\n",
      "24/24 [==============================] - 0s 6ms/step - loss: 7.6096 - accuracy: 0.5067\n",
      "Epoch 46/100\n",
      "24/24 [==============================] - 0s 7ms/step - loss: 7.6096 - accuracy: 0.5067\n",
      "Epoch 47/100\n",
      "24/24 [==============================] - 0s 8ms/step - loss: 7.6096 - accuracy: 0.5067\n",
      "Epoch 48/100\n",
      "24/24 [==============================] - 0s 8ms/step - loss: 7.6096 - accuracy: 0.5067\n",
      "Epoch 49/100\n",
      "24/24 [==============================] - 0s 11ms/step - loss: 7.6096 - accuracy: 0.5067\n",
      "Epoch 50/100\n",
      "24/24 [==============================] - 0s 8ms/step - loss: 7.6096 - accuracy: 0.5067\n",
      "Epoch 51/100\n",
      "24/24 [==============================] - 0s 7ms/step - loss: 7.6096 - accuracy: 0.5067\n",
      "Epoch 52/100\n",
      "24/24 [==============================] - 0s 6ms/step - loss: 7.6096 - accuracy: 0.5067\n",
      "Epoch 53/100\n",
      "24/24 [==============================] - 0s 4ms/step - loss: 7.6096 - accuracy: 0.5067\n",
      "Epoch 54/100\n",
      "24/24 [==============================] - 0s 6ms/step - loss: 7.6096 - accuracy: 0.5067\n",
      "Epoch 55/100\n",
      "24/24 [==============================] - 0s 5ms/step - loss: 7.6096 - accuracy: 0.5067\n",
      "Epoch 56/100\n",
      "24/24 [==============================] - 0s 12ms/step - loss: 7.6096 - accuracy: 0.5067\n",
      "Epoch 57/100\n",
      "24/24 [==============================] - 0s 7ms/step - loss: 7.6096 - accuracy: 0.5067\n",
      "Epoch 58/100\n",
      "24/24 [==============================] - 0s 6ms/step - loss: 7.6096 - accuracy: 0.5067\n",
      "Epoch 59/100\n",
      "24/24 [==============================] - 0s 5ms/step - loss: 7.6096 - accuracy: 0.5067\n",
      "Epoch 60/100\n",
      "24/24 [==============================] - 0s 5ms/step - loss: 7.6096 - accuracy: 0.5067\n",
      "Epoch 61/100\n",
      "24/24 [==============================] - 0s 5ms/step - loss: 7.6096 - accuracy: 0.5067\n",
      "Epoch 62/100\n",
      "24/24 [==============================] - 0s 5ms/step - loss: 7.6096 - accuracy: 0.5067\n",
      "Epoch 63/100\n",
      "24/24 [==============================] - 0s 6ms/step - loss: 7.6096 - accuracy: 0.5067\n",
      "Epoch 64/100\n",
      "24/24 [==============================] - 0s 9ms/step - loss: 7.6096 - accuracy: 0.5067\n",
      "Epoch 65/100\n",
      "24/24 [==============================] - 0s 8ms/step - loss: 7.6096 - accuracy: 0.5067\n",
      "Epoch 66/100\n",
      "24/24 [==============================] - 0s 10ms/step - loss: 7.6096 - accuracy: 0.5067\n",
      "Epoch 67/100\n",
      "24/24 [==============================] - 0s 7ms/step - loss: 7.6096 - accuracy: 0.5067\n",
      "Epoch 68/100\n",
      "24/24 [==============================] - 0s 6ms/step - loss: 7.6096 - accuracy: 0.5067\n",
      "Epoch 69/100\n",
      "24/24 [==============================] - 0s 7ms/step - loss: 7.6096 - accuracy: 0.5067\n",
      "Epoch 70/100\n",
      "24/24 [==============================] - 0s 5ms/step - loss: 7.6096 - accuracy: 0.5067\n",
      "Epoch 71/100\n",
      "24/24 [==============================] - 0s 6ms/step - loss: 7.6096 - accuracy: 0.5067\n",
      "Epoch 72/100\n",
      "24/24 [==============================] - 0s 8ms/step - loss: 7.6096 - accuracy: 0.5067\n",
      "Epoch 73/100\n",
      "24/24 [==============================] - 0s 4ms/step - loss: 7.6096 - accuracy: 0.5067\n",
      "Epoch 74/100\n",
      "24/24 [==============================] - 0s 4ms/step - loss: 7.6096 - accuracy: 0.5067\n",
      "Epoch 75/100\n",
      "24/24 [==============================] - 0s 5ms/step - loss: 7.6096 - accuracy: 0.5067\n",
      "Epoch 76/100\n",
      "24/24 [==============================] - 0s 6ms/step - loss: 7.6096 - accuracy: 0.5067\n",
      "Epoch 77/100\n",
      "24/24 [==============================] - 0s 7ms/step - loss: 7.6096 - accuracy: 0.5067\n",
      "Epoch 78/100\n",
      "24/24 [==============================] - 0s 6ms/step - loss: 7.6096 - accuracy: 0.5067\n",
      "Epoch 79/100\n",
      "24/24 [==============================] - 0s 6ms/step - loss: 7.6096 - accuracy: 0.5067\n",
      "Epoch 80/100\n",
      "24/24 [==============================] - 0s 5ms/step - loss: 7.6096 - accuracy: 0.5067\n",
      "Epoch 81/100\n",
      "24/24 [==============================] - 0s 9ms/step - loss: 7.6096 - accuracy: 0.5067\n",
      "Epoch 82/100\n"
     ]
    },
    {
     "name": "stdout",
     "output_type": "stream",
     "text": [
      "24/24 [==============================] - 0s 9ms/step - loss: 7.6096 - accuracy: 0.5067\n",
      "Epoch 83/100\n",
      "24/24 [==============================] - 0s 11ms/step - loss: 7.6096 - accuracy: 0.5067\n",
      "Epoch 84/100\n",
      "24/24 [==============================] - 0s 6ms/step - loss: 7.6096 - accuracy: 0.5067\n",
      "Epoch 85/100\n",
      "24/24 [==============================] - 0s 6ms/step - loss: 7.6096 - accuracy: 0.5067\n",
      "Epoch 86/100\n",
      "24/24 [==============================] - 0s 4ms/step - loss: 7.6096 - accuracy: 0.5067\n",
      "Epoch 87/100\n",
      "24/24 [==============================] - 0s 3ms/step - loss: 7.6096 - accuracy: 0.5067\n",
      "Epoch 88/100\n",
      "24/24 [==============================] - 0s 3ms/step - loss: 7.6096 - accuracy: 0.5067\n",
      "Epoch 89/100\n",
      "24/24 [==============================] - 0s 3ms/step - loss: 7.6096 - accuracy: 0.5067\n",
      "Epoch 90/100\n",
      "24/24 [==============================] - 0s 3ms/step - loss: 7.6096 - accuracy: 0.5067\n",
      "Epoch 91/100\n",
      "24/24 [==============================] - 0s 3ms/step - loss: 7.6096 - accuracy: 0.5067\n",
      "Epoch 92/100\n",
      "24/24 [==============================] - 0s 4ms/step - loss: 7.6096 - accuracy: 0.5067\n",
      "Epoch 93/100\n",
      "24/24 [==============================] - 0s 2ms/step - loss: 7.6096 - accuracy: 0.5067\n",
      "Epoch 94/100\n",
      "24/24 [==============================] - 0s 4ms/step - loss: 7.6096 - accuracy: 0.5067\n",
      "Epoch 95/100\n",
      "24/24 [==============================] - 0s 2ms/step - loss: 7.6096 - accuracy: 0.5067\n",
      "Epoch 96/100\n",
      "24/24 [==============================] - 0s 4ms/step - loss: 7.6096 - accuracy: 0.5067\n",
      "Epoch 97/100\n",
      "24/24 [==============================] - 0s 4ms/step - loss: 7.6096 - accuracy: 0.5067\n",
      "Epoch 98/100\n",
      "24/24 [==============================] - 0s 4ms/step - loss: 7.6096 - accuracy: 0.5067\n",
      "Epoch 99/100\n",
      "24/24 [==============================] - 0s 4ms/step - loss: 7.6096 - accuracy: 0.5067\n",
      "Epoch 100/100\n",
      "24/24 [==============================] - 0s 4ms/step - loss: 7.6096 - accuracy: 0.5067\n"
     ]
    }
   ],
   "source": [
    "# Fit the model to the training data\n",
    "fit_model = nn_model.fit(X_train_scaled, y_train, epochs=100)"
   ]
  },
  {
   "cell_type": "code",
   "execution_count": 25,
   "id": "1340e8ab",
   "metadata": {},
   "outputs": [
    {
     "data": {
      "text/plain": [
       "<AxesSubplot:>"
      ]
     },
     "execution_count": 25,
     "metadata": {},
     "output_type": "execute_result"
    },
    {
     "data": {
      "image/png": "[encoded data removed]",
      "text/plain": [
       "<Figure size 432x288 with 1 Axes>"
      ]
     },
     "metadata": {
      "needs_background": "light"
     },
     "output_type": "display_data"
    }
   ],
   "source": [
    "# Create a DataFrame containing training history\n",
    "history_df = pd.DataFrame(fit_model.history, index=range(1,len(fit_model.history[\"loss\"])+1))\n",
    "\n",
    "# Plot the loss\n",
    "history_df.plot(y=\"loss\")"
   ]
  },
  {
   "cell_type": "code",
   "execution_count": 26,
   "id": "5f8b6fe3",
   "metadata": {},
   "outputs": [
    {
     "data": {
      "text/plain": [
       "<AxesSubplot:>"
      ]
     },
     "execution_count": 26,
     "metadata": {},
     "output_type": "execute_result"
    },
    {
     "data": {
      "image/png": "[encoded data removed]",
      "text/plain": [
       "<Figure size 432x288 with 1 Axes>"
      ]
     },
     "metadata": {
      "needs_background": "light"
     },
     "output_type": "display_data"
    }
   ],
   "source": [
    "# Plot the accuracy\n",
    "history_df.plot(y=\"accuracy\")"
   ]
  },
  {
   "cell_type": "code",
   "execution_count": 27,
   "id": "4ca12a5b",
   "metadata": {},
   "outputs": [
    {
     "name": "stdout",
     "output_type": "stream",
     "text": [
      "8/8 - 0s - loss: 8.0210 - accuracy: 0.4800 - 369ms/epoch - 46ms/step\n",
      "Loss: 8.020973205566406, Accuracy: 0.47999998927116394\n"
     ]
    }
   ],
   "source": [
    "# Evaluate the model using the test data\n",
    "model_loss, model_accuracy = nn_model.evaluate(X_test_scaled,y_test,verbose=2)\n",
    "print(f\"Loss: {model_loss}, Accuracy: {model_accuracy}\")"
   ]
  },
  {
   "cell_type": "code",
   "execution_count": 28,
   "id": "15a6246d",
   "metadata": {},
   "outputs": [
    {
     "data": {
      "text/plain": [
       "array([[0],\n",
       "       [0],\n",
       "       [0],\n",
       "       [0],\n",
       "       [0],\n",
       "       [0],\n",
       "       [0],\n",
       "       [0],\n",
       "       [0],\n",
       "       [0]])"
      ]
     },
     "execution_count": 28,
     "metadata": {},
     "output_type": "execute_result"
    }
   ],
   "source": [
    "# Predict the classification of a new set of blob data\n",
    "new_X, new_Y = make_blobs(n_samples=10, centers=2, n_features=2, random_state=78)\n",
    "new_X_scaled = X_scaler.transform(new_X)\n",
    "(nn_model.predict(new_X_scaled) > 0.5).astype(\"int32\")"
   ]
  },
  {
   "cell_type": "code",
   "execution_count": 29,
   "id": "ba13b3c3",
   "metadata": {},
   "outputs": [
    {
     "data": {
      "text/plain": [
       "<AxesSubplot:xlabel='Feature 1', ylabel='Feature 2'>"
      ]
     },
     "execution_count": 29,
     "metadata": {},
     "output_type": "execute_result"
    },
    {
     "data": {
      "image/png": "[encoded data removed]",
      "text/plain": [
       "<Figure size 432x288 with 2 Axes>"
      ]
     },
     "metadata": {
      "needs_background": "light"
     },
     "output_type": "display_data"
    }
   ],
   "source": [
    "from sklearn.datasets import make_moons\n",
    "\n",
    "# Creating dummy nonlinear data\n",
    "X_moons, y_moons = make_moons(n_samples=1000, noise=0.08, random_state=78)\n",
    "\n",
    "# Transforming y_moons to a vertical vector\n",
    "y_moons = y_moons.reshape(-1, 1)\n",
    "\n",
    "# Creating a DataFrame to plot the nonlinear dummy data\n",
    "df_moons = pd.DataFrame(X_moons, columns=[\"Feature 1\", \"Feature 2\"])\n",
    "df_moons[\"Target\"] = y_moons\n",
    "\n",
    "# Plot the nonlinear dummy data\n",
    "df_moons.plot.scatter(x=\"Feature 1\",y=\"Feature 2\", c=\"Target\",colormap=\"winter\")"
   ]
  },
  {
   "cell_type": "code",
   "execution_count": 30,
   "id": "87dd3a57",
   "metadata": {},
   "outputs": [],
   "source": [
    "# Create training and testing sets\n",
    "X_moon_train, X_moon_test, y_moon_train, y_moon_test = train_test_split(\n",
    "    X_moons, y_moons, random_state=78\n",
    ")\n",
    "\n",
    "# Create the scaler instance\n",
    "X_moon_scaler = skl.preprocessing.StandardScaler()\n",
    "\n",
    "# Fit the scaler\n",
    "X_moon_scaler.fit(X_moon_train)\n",
    "\n",
    "# Scale the data\n",
    "X_moon_train_scaled = X_moon_scaler.transform(X_moon_train)\n",
    "X_moon_test_scaled = X_moon_scaler.transform(X_moon_test)"
   ]
  },
  {
   "cell_type": "code",
   "execution_count": 31,
   "id": "ba683ee6",
   "metadata": {},
   "outputs": [
    {
     "name": "stdout",
     "output_type": "stream",
     "text": [
      "Epoch 1/100\n",
      "24/24 [==============================] - 1s 10ms/step - loss: 7.2394 - accuracy: 0.5307\n",
      "Epoch 2/100\n",
      "24/24 [==============================] - 0s 7ms/step - loss: 7.2394 - accuracy: 0.5307\n",
      "Epoch 3/100\n",
      "24/24 [==============================] - 0s 4ms/step - loss: 7.2394 - accuracy: 0.5307\n",
      "Epoch 4/100\n",
      "24/24 [==============================] - 0s 5ms/step - loss: 7.2394 - accuracy: 0.5307\n",
      "Epoch 5/100\n",
      "24/24 [==============================] - 0s 12ms/step - loss: 7.2394 - accuracy: 0.5307\n",
      "Epoch 6/100\n",
      "24/24 [==============================] - 0s 14ms/step - loss: 7.2394 - accuracy: 0.5307\n",
      "Epoch 7/100\n",
      "24/24 [==============================] - 0s 16ms/step - loss: 7.2394 - accuracy: 0.5307\n",
      "Epoch 8/100\n",
      "24/24 [==============================] - 0s 10ms/step - loss: 7.2394 - accuracy: 0.5307\n",
      "Epoch 9/100\n",
      "24/24 [==============================] - 0s 10ms/step - loss: 7.2394 - accuracy: 0.5307\n",
      "Epoch 10/100\n",
      "24/24 [==============================] - 0s 7ms/step - loss: 7.2394 - accuracy: 0.5307\n",
      "Epoch 11/100\n",
      "24/24 [==============================] - 0s 5ms/step - loss: 7.2394 - accuracy: 0.5307\n",
      "Epoch 12/100\n",
      "24/24 [==============================] - 0s 11ms/step - loss: 7.2394 - accuracy: 0.5307\n",
      "Epoch 13/100\n",
      "24/24 [==============================] - 0s 11ms/step - loss: 7.2394 - accuracy: 0.5307\n",
      "Epoch 14/100\n",
      "24/24 [==============================] - 0s 11ms/step - loss: 7.2394 - accuracy: 0.5307\n",
      "Epoch 15/100\n",
      "24/24 [==============================] - 0s 6ms/step - loss: 7.2394 - accuracy: 0.5307\n",
      "Epoch 16/100\n",
      "24/24 [==============================] - 0s 6ms/step - loss: 7.2394 - accuracy: 0.5307\n",
      "Epoch 17/100\n",
      "24/24 [==============================] - 0s 10ms/step - loss: 7.2394 - accuracy: 0.5307\n",
      "Epoch 18/100\n",
      "24/24 [==============================] - 0s 15ms/step - loss: 7.2394 - accuracy: 0.5307\n",
      "Epoch 19/100\n",
      "24/24 [==============================] - 0s 19ms/step - loss: 7.2394 - accuracy: 0.5307\n",
      "Epoch 20/100\n",
      "24/24 [==============================] - 0s 19ms/step - loss: 7.2394 - accuracy: 0.5307\n",
      "Epoch 21/100\n",
      "24/24 [==============================] - 0s 19ms/step - loss: 7.2394 - accuracy: 0.5307\n",
      "Epoch 22/100\n",
      "24/24 [==============================] - 0s 8ms/step - loss: 7.2394 - accuracy: 0.5307\n",
      "Epoch 23/100\n",
      "24/24 [==============================] - 0s 6ms/step - loss: 7.2394 - accuracy: 0.5307\n",
      "Epoch 24/100\n",
      "24/24 [==============================] - 0s 7ms/step - loss: 7.2394 - accuracy: 0.5307\n",
      "Epoch 25/100\n",
      "24/24 [==============================] - 0s 12ms/step - loss: 7.2394 - accuracy: 0.5307\n",
      "Epoch 26/100\n",
      "24/24 [==============================] - 0s 8ms/step - loss: 7.2394 - accuracy: 0.5307\n",
      "Epoch 27/100\n",
      "24/24 [==============================] - 0s 9ms/step - loss: 7.2394 - accuracy: 0.5307\n",
      "Epoch 28/100\n",
      "24/24 [==============================] - 0s 9ms/step - loss: 7.2394 - accuracy: 0.5307\n",
      "Epoch 29/100\n",
      "24/24 [==============================] - 0s 10ms/step - loss: 7.2394 - accuracy: 0.5307\n",
      "Epoch 30/100\n",
      "24/24 [==============================] - 0s 10ms/step - loss: 7.2394 - accuracy: 0.5307\n",
      "Epoch 31/100\n",
      "24/24 [==============================] - 1s 25ms/step - loss: 7.2394 - accuracy: 0.5307\n",
      "Epoch 32/100\n",
      "24/24 [==============================] - 1s 24ms/step - loss: 7.2394 - accuracy: 0.5307\n",
      "Epoch 33/100\n",
      "24/24 [==============================] - 0s 15ms/step - loss: 7.2394 - accuracy: 0.5307\n",
      "Epoch 34/100\n",
      "24/24 [==============================] - 0s 2ms/step - loss: 7.2394 - accuracy: 0.5307\n",
      "Epoch 35/100\n",
      "24/24 [==============================] - 0s 1ms/step - loss: 7.2394 - accuracy: 0.5307\n",
      "Epoch 36/100\n",
      "24/24 [==============================] - 0s 2ms/step - loss: 7.2394 - accuracy: 0.5307\n",
      "Epoch 37/100\n",
      "24/24 [==============================] - 0s 2ms/step - loss: 7.2394 - accuracy: 0.5307\n",
      "Epoch 38/100\n",
      "24/24 [==============================] - 0s 2ms/step - loss: 7.2394 - accuracy: 0.5307\n",
      "Epoch 39/100\n",
      "24/24 [==============================] - 0s 1ms/step - loss: 7.2394 - accuracy: 0.5307\n",
      "Epoch 40/100\n",
      "24/24 [==============================] - 0s 2ms/step - loss: 7.2394 - accuracy: 0.5307\n",
      "Epoch 41/100\n",
      "24/24 [==============================] - 0s 2ms/step - loss: 7.2394 - accuracy: 0.5307\n",
      "Epoch 42/100\n",
      "24/24 [==============================] - 0s 16ms/step - loss: 7.2394 - accuracy: 0.5307\n",
      "Epoch 43/100\n",
      "24/24 [==============================] - 1s 34ms/step - loss: 7.2394 - accuracy: 0.5307\n",
      "Epoch 44/100\n",
      "24/24 [==============================] - 1s 25ms/step - loss: 7.2394 - accuracy: 0.5307\n",
      "Epoch 45/100\n",
      "24/24 [==============================] - 1s 22ms/step - loss: 7.2394 - accuracy: 0.5307\n",
      "Epoch 46/100\n",
      "24/24 [==============================] - 1s 22ms/step - loss: 7.2394 - accuracy: 0.5307\n",
      "Epoch 47/100\n",
      "24/24 [==============================] - 1s 27ms/step - loss: 7.2394 - accuracy: 0.5307\n",
      "Epoch 48/100\n",
      "24/24 [==============================] - 0s 18ms/step - loss: 7.2394 - accuracy: 0.5307\n",
      "Epoch 49/100\n",
      "24/24 [==============================] - 0s 12ms/step - loss: 7.2394 - accuracy: 0.5307\n",
      "Epoch 50/100\n",
      "24/24 [==============================] - 1s 21ms/step - loss: 7.2394 - accuracy: 0.5307\n",
      "Epoch 51/100\n",
      "24/24 [==============================] - 0s 9ms/step - loss: 7.2394 - accuracy: 0.5307\n",
      "Epoch 52/100\n",
      "24/24 [==============================] - 0s 13ms/step - loss: 7.2394 - accuracy: 0.5307\n",
      "Epoch 53/100\n",
      "24/24 [==============================] - 0s 8ms/step - loss: 7.2394 - accuracy: 0.5307\n",
      "Epoch 54/100\n",
      "24/24 [==============================] - 0s 15ms/step - loss: 7.2394 - accuracy: 0.5307\n",
      "Epoch 55/100\n",
      "24/24 [==============================] - 0s 14ms/step - loss: 7.2394 - accuracy: 0.5307\n",
      "Epoch 56/100\n",
      "24/24 [==============================] - 0s 12ms/step - loss: 7.2394 - accuracy: 0.5307\n",
      "Epoch 57/100\n",
      "24/24 [==============================] - 0s 13ms/step - loss: 7.2394 - accuracy: 0.5307\n",
      "Epoch 58/100\n",
      "24/24 [==============================] - 0s 8ms/step - loss: 7.2394 - accuracy: 0.5307\n",
      "Epoch 59/100\n",
      "24/24 [==============================] - 0s 17ms/step - loss: 7.2394 - accuracy: 0.5307\n",
      "Epoch 60/100\n",
      "24/24 [==============================] - 0s 17ms/step - loss: 7.2394 - accuracy: 0.5307\n",
      "Epoch 61/100\n",
      "24/24 [==============================] - 0s 16ms/step - loss: 7.2394 - accuracy: 0.5307\n",
      "Epoch 62/100\n",
      "24/24 [==============================] - 1s 24ms/step - loss: 7.2394 - accuracy: 0.5307\n",
      "Epoch 63/100\n",
      "24/24 [==============================] - 0s 15ms/step - loss: 7.2394 - accuracy: 0.5307\n",
      "Epoch 64/100\n",
      "24/24 [==============================] - 0s 16ms/step - loss: 7.2394 - accuracy: 0.5307\n",
      "Epoch 65/100\n",
      "24/24 [==============================] - 0s 15ms/step - loss: 7.2394 - accuracy: 0.5307\n",
      "Epoch 66/100\n",
      "24/24 [==============================] - 0s 12ms/step - loss: 7.2394 - accuracy: 0.5307\n",
      "Epoch 67/100\n",
      "24/24 [==============================] - 0s 9ms/step - loss: 7.2394 - accuracy: 0.5307\n",
      "Epoch 68/100\n",
      "24/24 [==============================] - 0s 10ms/step - loss: 7.2394 - accuracy: 0.5307\n",
      "Epoch 69/100\n",
      "24/24 [==============================] - 0s 7ms/step - loss: 7.2394 - accuracy: 0.5307\n",
      "Epoch 70/100\n",
      "24/24 [==============================] - 0s 10ms/step - loss: 7.2394 - accuracy: 0.5307\n",
      "Epoch 71/100\n",
      "24/24 [==============================] - 0s 16ms/step - loss: 7.2394 - accuracy: 0.5307\n",
      "Epoch 72/100\n",
      "24/24 [==============================] - 0s 18ms/step - loss: 7.2394 - accuracy: 0.5307\n",
      "Epoch 73/100\n",
      "24/24 [==============================] - 0s 17ms/step - loss: 7.2394 - accuracy: 0.5307\n",
      "Epoch 74/100\n",
      "24/24 [==============================] - 0s 13ms/step - loss: 7.2394 - accuracy: 0.5307\n",
      "Epoch 75/100\n",
      "24/24 [==============================] - 0s 17ms/step - loss: 7.2394 - accuracy: 0.5307\n",
      "Epoch 76/100\n",
      "24/24 [==============================] - 0s 14ms/step - loss: 7.2394 - accuracy: 0.5307\n",
      "Epoch 77/100\n",
      "24/24 [==============================] - 0s 9ms/step - loss: 7.2394 - accuracy: 0.5307\n",
      "Epoch 78/100\n",
      "24/24 [==============================] - 0s 10ms/step - loss: 7.2394 - accuracy: 0.5307\n",
      "Epoch 79/100\n",
      "24/24 [==============================] - 0s 13ms/step - loss: 7.2394 - accuracy: 0.5307\n",
      "Epoch 80/100\n",
      "24/24 [==============================] - 0s 16ms/step - loss: 7.2394 - accuracy: 0.5307\n",
      "Epoch 81/100\n",
      "24/24 [==============================] - 0s 10ms/step - loss: 7.2394 - accuracy: 0.5307\n",
      "Epoch 82/100\n"
     ]
    },
    {
     "name": "stdout",
     "output_type": "stream",
     "text": [
      "24/24 [==============================] - 0s 13ms/step - loss: 7.2394 - accuracy: 0.5307\n",
      "Epoch 83/100\n",
      "24/24 [==============================] - 0s 11ms/step - loss: 7.2394 - accuracy: 0.5307\n",
      "Epoch 84/100\n",
      "24/24 [==============================] - 0s 19ms/step - loss: 7.2394 - accuracy: 0.5307\n",
      "Epoch 85/100\n",
      "24/24 [==============================] - 1s 30ms/step - loss: 7.2394 - accuracy: 0.5307\n",
      "Epoch 86/100\n",
      "24/24 [==============================] - 0s 21ms/step - loss: 7.2394 - accuracy: 0.5307\n",
      "Epoch 87/100\n",
      "24/24 [==============================] - 1s 24ms/step - loss: 7.2394 - accuracy: 0.5307\n",
      "Epoch 88/100\n",
      "24/24 [==============================] - 0s 16ms/step - loss: 7.2394 - accuracy: 0.5307\n",
      "Epoch 89/100\n",
      "24/24 [==============================] - 0s 19ms/step - loss: 7.2394 - accuracy: 0.5307\n",
      "Epoch 90/100\n",
      "24/24 [==============================] - 1s 22ms/step - loss: 7.2394 - accuracy: 0.5307\n",
      "Epoch 91/100\n",
      "24/24 [==============================] - 1s 24ms/step - loss: 7.2394 - accuracy: 0.5307\n",
      "Epoch 92/100\n",
      "24/24 [==============================] - 1s 22ms/step - loss: 7.2394 - accuracy: 0.5307\n",
      "Epoch 93/100\n",
      "24/24 [==============================] - 1s 22ms/step - loss: 7.2394 - accuracy: 0.5307\n",
      "Epoch 94/100\n",
      "24/24 [==============================] - 0s 16ms/step - loss: 7.2394 - accuracy: 0.5307\n",
      "Epoch 95/100\n",
      "24/24 [==============================] - 0s 17ms/step - loss: 7.2394 - accuracy: 0.5307\n",
      "Epoch 96/100\n",
      "24/24 [==============================] - 1s 30ms/step - loss: 7.2394 - accuracy: 0.5307\n",
      "Epoch 97/100\n",
      "24/24 [==============================] - 1s 26ms/step - loss: 7.2394 - accuracy: 0.5307\n",
      "Epoch 98/100\n",
      "24/24 [==============================] - 1s 26ms/step - loss: 7.2394 - accuracy: 0.5307\n",
      "Epoch 99/100\n",
      "24/24 [==============================] - 1s 31ms/step - loss: 7.2394 - accuracy: 0.5307\n",
      "Epoch 100/100\n",
      "24/24 [==============================] - 1s 28ms/step - loss: 7.2394 - accuracy: 0.5307\n"
     ]
    }
   ],
   "source": [
    "# Training the model with the nonlinear data\n",
    "model_moon = nn_model.fit(X_moon_train_scaled, y_moon_train, epochs=100, shuffle=True)"
   ]
  },
  {
   "cell_type": "code",
   "execution_count": null,
   "id": "0c06a926",
   "metadata": {},
   "outputs": [],
   "source": []
  }
 ],
 "metadata": {
  "kernelspec": {
   "display_name": "mlenv",
   "language": "python",
   "name": "mlenv"
  },
  "language_info": {
   "codemirror_mode": {
    "name": "ipython",
    "version": 3
   },
   "file_extension": ".py",
   "mimetype": "text/x-python",
   "name": "python",
   "nbconvert_exporter": "python",
   "pygments_lexer": "ipython3",
   "version": "3.7.11"
  }
 },
 "nbformat": 4,
 "nbformat_minor": 5
}
